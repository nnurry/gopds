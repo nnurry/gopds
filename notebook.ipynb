{
 "cells": [
  {
   "cell_type": "code",
   "execution_count": 2,
   "metadata": {},
   "outputs": [],
   "source": [
    "import requests\n",
    "import json\n",
    "import pandas as pd"
   ]
  },
  {
   "cell_type": "markdown",
   "metadata": {},
   "source": [
    "Ingest"
   ]
  },
  {
   "cell_type": "code",
   "execution_count": null,
   "metadata": {},
   "outputs": [],
   "source": [
    "DATA_DIR = \"../../data\"\n",
    "NUMBER_OF_ROWS = None\n",
    "daily_revenue_df = pd.read_excel(\n",
    "    f\"{DATA_DIR}/Doanh _thu_ngay.xlsx\", \n",
    "    parse_dates=True,\n",
    "    nrows=NUMBER_OF_ROWS,\n",
    ")\n",
    "\n",
    "daily_revenue_df['ISSUE_DATE'] = pd.to_datetime(\n",
    "    daily_revenue_df['ISSUE_DATE'], \n",
    ")"
   ]
  },
  {
   "cell_type": "code",
   "execution_count": null,
   "metadata": {},
   "outputs": [],
   "source": [
    "for idx, row in daily_revenue_df.iterrows():\n",
    "    if idx >= 217950:\n",
    "        sub_id = row[\"SUB_ID\"]\n",
    "        issue_date: pd.Timestamp = row['ISSUE_DATE']\n",
    "\n",
    "        sub_id = str(sub_id)\n",
    "        issue_date = str(issue_date)\n",
    "\n",
    "        body = {\n",
    "            \"key\": issue_date,\n",
    "            \"value\": sub_id,\n",
    "        }\n",
    "\n",
    "        # print(f\"Ingest data of date {issue_date}\", json.dumps(body))\n",
    "        \n",
    "        res = requests.post(\n",
    "            \"http://127.0.0.1:5000/hyperbloom/hash\", \n",
    "            data=json.dumps(body),\n",
    "            headers={\n",
    "                \"Content-Type\": \"application/json\"\n",
    "            }\n",
    "        )\n",
    "\n",
    "        if res.status_code >= 400:\n",
    "            print(\"Got the error:\", res.text)\n",
    "            break\n",
    "        \n",
    "    if idx % 50 == 0:\n",
    "        print(\"Record\", idx, row[\"ISSUE_DATE\"], row[\"SUB_ID\"])"
   ]
  },
  {
   "cell_type": "markdown",
   "metadata": {},
   "source": [
    "Check existence"
   ]
  },
  {
   "cell_type": "code",
   "execution_count": 3,
   "metadata": {},
   "outputs": [
    {
     "name": "stdout",
     "output_type": "stream",
     "text": [
      "(40751872) ⪽ (2023-06-06 00:00:00) = true\n",
      "\n"
     ]
    }
   ],
   "source": [
    "body = {\"key\": \"2023-06-06 00:00:00\", \"value\": \"40751872\"}\n",
    "res = requests.post(\n",
    "    \"http://127.0.0.1:5000/hyperbloom/exists\", \n",
    "    data=json.dumps(body),\n",
    "    headers={\n",
    "        \"Content-Type\": \"application/json\"\n",
    "    }\n",
    ")\n",
    "print(res.text)"
   ]
  },
  {
   "cell_type": "markdown",
   "metadata": {},
   "source": [
    "Check cardinality"
   ]
  },
  {
   "cell_type": "code",
   "execution_count": 4,
   "metadata": {},
   "outputs": [
    {
     "name": "stdout",
     "output_type": "stream",
     "text": [
      "Cardinality (bloom, hyperloglog) = (1510, 1504)\n"
     ]
    }
   ],
   "source": [
    "body = {\"key\": \"2023-11-07 00:00:00\"}\n",
    "res = requests.get(\n",
    "    f\"http://127.0.0.1:5000/hyperbloom/card?key={body['key']}\",\n",
    ")\n",
    "print(res.text)"
   ]
  },
  {
   "cell_type": "markdown",
   "metadata": {},
   "source": [
    "Check sim"
   ]
  },
  {
   "cell_type": "code",
   "execution_count": 6,
   "metadata": {},
   "outputs": [
    {
     "name": "stdout",
     "output_type": "stream",
     "text": [
      "Jaccard similarity = 0.423215\n"
     ]
    }
   ],
   "source": [
    "body = {\n",
    "    \"key_1\": \"2023-11-07 00:00:00\",\n",
    "    \"key_2\": \"2023-11-08 00:00:00\",\n",
    "}\n",
    "res = requests.post(\n",
    "    f\"http://127.0.0.1:5000/hyperbloom/sim\",\n",
    "    data=json.dumps(body),\n",
    "    headers={\n",
    "        \"Content-Type\": \"application/json\"\n",
    "    }\n",
    ")\n",
    "print(res.text)"
   ]
  },
  {
   "cell_type": "code",
   "execution_count": null,
   "metadata": {},
   "outputs": [],
   "source": []
  }
 ],
 "metadata": {
  "kernelspec": {
   "display_name": "Python 3",
   "language": "python",
   "name": "python3"
  },
  "language_info": {
   "codemirror_mode": {
    "name": "ipython",
    "version": 3
   },
   "file_extension": ".py",
   "mimetype": "text/x-python",
   "name": "python",
   "nbconvert_exporter": "python",
   "pygments_lexer": "ipython3",
   "version": "3.10.12"
  }
 },
 "nbformat": 4,
 "nbformat_minor": 2
}
