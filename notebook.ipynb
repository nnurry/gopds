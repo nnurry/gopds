{
 "cells": [
  {
   "cell_type": "code",
   "execution_count": null,
   "metadata": {},
   "outputs": [],
   "source": [
    "import requests\n",
    "import json\n",
    "import pandas as pd\n",
    "import psycopg2"
   ]
  },
  {
   "cell_type": "markdown",
   "metadata": {},
   "source": [
    "Ingest"
   ]
  },
  {
   "cell_type": "code",
   "execution_count": null,
   "metadata": {},
   "outputs": [],
   "source": [
    "DATA_DIR = \"../../data\"\n",
    "NUMBER_OF_ROWS = None\n",
    "daily_revenue_df = pd.read_excel(\n",
    "    f\"{DATA_DIR}/Doanh _thu_ngay.xlsx\", \n",
    "    parse_dates=True,\n",
    "    nrows=NUMBER_OF_ROWS,\n",
    ")\n",
    "\n",
    "daily_revenue_df['ISSUE_DATE'] = pd.to_datetime(\n",
    "    daily_revenue_df['ISSUE_DATE'], \n",
    ")"
   ]
  },
  {
   "cell_type": "code",
   "execution_count": null,
   "metadata": {},
   "outputs": [],
   "source": [
    "idx_range = list(range(200000, 400000))\n",
    "for idx, row in daily_revenue_df.iterrows():\n",
    "    if idx in idx_range:\n",
    "        sub_id = row[\"SUB_ID\"]\n",
    "        issue_date: pd.Timestamp = row['ISSUE_DATE']\n",
    "\n",
    "        sub_id = str(sub_id)\n",
    "        issue_date = str(issue_date)\n",
    "\n",
    "        body = {\n",
    "            \"key\": issue_date,\n",
    "            \"value\": sub_id,\n",
    "        }\n",
    "\n",
    "        # print(f\"Ingest data of date {issue_date}\", json.dumps(body))\n",
    "        \n",
    "        res = requests.post(\n",
    "            \"http://127.0.0.1:5000/hyperbloom/hash\", \n",
    "            data=json.dumps(body),\n",
    "            headers={\n",
    "                \"Content-Type\": \"application/json\"\n",
    "            }\n",
    "        )\n",
    "\n",
    "        if res.status_code >= 400:\n",
    "            print(\"Got the error:\", res.text)\n",
    "            break\n",
    "        \n",
    "    else:\n",
    "        continue\n",
    "\n",
    "    if idx % 50 == 0:\n",
    "        print(\"Record\", idx, row[\"ISSUE_DATE\"], row[\"SUB_ID\"])\n",
    "    "
   ]
  },
  {
   "cell_type": "markdown",
   "metadata": {},
   "source": [
    "Check existence"
   ]
  },
  {
   "cell_type": "code",
   "execution_count": null,
   "metadata": {},
   "outputs": [],
   "source": [
    "body = {\"key\": \"2023-06-13 00:00:00\", \"value\": \"30012648\"}\n",
    "res = requests.post(\n",
    "    \"http://127.0.0.1:5000/hyperbloom/exists\", \n",
    "    data=json.dumps(body),\n",
    "    headers={\n",
    "        \"Content-Type\": \"application/json\"\n",
    "    }\n",
    ")\n",
    "print(res.text)"
   ]
  },
  {
   "cell_type": "markdown",
   "metadata": {},
   "source": [
    "Check cardinality"
   ]
  },
  {
   "cell_type": "code",
   "execution_count": null,
   "metadata": {},
   "outputs": [],
   "source": [
    "body = {\"key\": \"2023-10-31 00:00:00\"}\n",
    "res = requests.get(\n",
    "    f\"http://127.0.0.1:5000/hyperbloom/card?key={body['key']}\",\n",
    ")\n",
    "print(res.text)"
   ]
  },
  {
   "cell_type": "markdown",
   "metadata": {},
   "source": [
    "Check sim"
   ]
  },
  {
   "cell_type": "code",
   "execution_count": null,
   "metadata": {},
   "outputs": [],
   "source": [
    "body = {\n",
    "    \"key_1\": \"2023-11-07 00:00:00\",\n",
    "    \"key_2\": \"2023-11-08 00:00:00\",\n",
    "}\n",
    "res = requests.post(\n",
    "    f\"http://127.0.0.1:5000/hyperbloom/sim\",\n",
    "    data=json.dumps(body),\n",
    "    headers={\n",
    "        \"Content-Type\": \"application/json\"\n",
    "    }\n",
    ")\n",
    "print(res.text)"
   ]
  },
  {
   "cell_type": "markdown",
   "metadata": {},
   "source": [
    "Check chaining exists "
   ]
  },
  {
   "cell_type": "code",
   "execution_count": null,
   "metadata": {},
   "outputs": [],
   "source": [
    "body = {\n",
    "    \"keys\": [\n",
    "        \"2023-01-07 00:00:00\",\n",
    "        \"2023-01-08 00:00:00\",\n",
    "        \"2023-01-06 00:00:00\",\n",
    "    ],\n",
    "    \"value\": \"43914221\",\n",
    "    \"operator\": \"AND\",\n",
    "}\n",
    "res = requests.post(\n",
    "    f\"http://127.0.0.1:5000/hyperbloom/exists/chaining\",\n",
    "    data=json.dumps(body),\n",
    "    headers={\n",
    "        \"Content-Type\": \"application/json\"\n",
    "    }\n",
    ")\n",
    "print(res.text)"
   ]
  },
  {
   "cell_type": "code",
   "execution_count": null,
   "metadata": {},
   "outputs": [],
   "source": [
    "body = {\n",
    "    \"keys\": [\n",
    "        \"2023-01-07 00:00:00\",\n",
    "        \"2023-01-08 00:00:00\",\n",
    "        \"2023-01-06 00:00:00\",\n",
    "    ],\n",
    "    \"value\": \"43914221\",\n",
    "    \"operator\": \"OR\",\n",
    "}\n",
    "res = requests.post(\n",
    "    f\"http://127.0.0.1:5000/hyperbloom/exists/chaining\",\n",
    "    data=json.dumps(body),\n",
    "    headers={\n",
    "        \"Content-Type\": \"application/json\"\n",
    "    }\n",
    ")\n",
    "print(res.text)"
   ]
  },
  {
   "cell_type": "markdown",
   "metadata": {},
   "source": [
    "Check bitwise exists "
   ]
  },
  {
   "cell_type": "code",
   "execution_count": null,
   "metadata": {},
   "outputs": [],
   "source": [
    "body = {\n",
    "    \"keys\": [\n",
    "        \"2023-01-07 00:00:00\",\n",
    "        \"2023-01-08 00:00:00\",\n",
    "        \"2023-01-06 00:00:00\",\n",
    "    ],\n",
    "    \"value\": \"43914221\",\n",
    "    \"operator\": \"AND\",\n",
    "}\n",
    "res = requests.post(\n",
    "    f\"http://127.0.0.1:5000/hyperbloom/exists/bitwise\",\n",
    "    data=json.dumps(body),\n",
    "    headers={\n",
    "        \"Content-Type\": \"application/json\"\n",
    "    }\n",
    ")\n",
    "print(res.text)"
   ]
  },
  {
   "cell_type": "code",
   "execution_count": null,
   "metadata": {},
   "outputs": [],
   "source": [
    "body = {\n",
    "    \"keys\": [\n",
    "        \"2023-01-07 00:00:00\",\n",
    "        \"2023-01-08 00:00:00\",\n",
    "        \"2023-01-06 00:00:00\",\n",
    "    ],\n",
    "    \"value\": \"43914221\",\n",
    "    \"operator\": \"OR\",\n",
    "}\n",
    "res = requests.post(\n",
    "    f\"http://127.0.0.1:5000/hyperbloom/exists/bitwise\",\n",
    "    data=json.dumps(body),\n",
    "    headers={\n",
    "        \"Content-Type\": \"application/json\"\n",
    "    }\n",
    ")\n",
    "print(res.text)"
   ]
  },
  {
   "cell_type": "markdown",
   "metadata": {},
   "source": [
    "Archive data"
   ]
  },
  {
   "cell_type": "code",
   "execution_count": null,
   "metadata": {},
   "outputs": [],
   "source": [
    "host     = \"127.0.0.1\" \n",
    "port     = 5432\n",
    "user     = \"admin\" \n",
    "password = \"123\" \n",
    "dbname   = \"postgres\"\n",
    "\n",
    "connstr = f\"postgresql://{user}:{password}@{host}:{port}/{dbname}\"\n",
    "conn = psycopg2.connect(connstr)\n",
    "cursor = conn.cursor()\n",
    "\n",
    "with (\n",
    "        open(\"hyperblooms.txt\", \"w\") as hb_file, \n",
    "        open(\"hyperbloom_metadata.txt\", \"w\") as hb_meta_file\n",
    "    ):\n",
    "    cursor.copy_to(hb_file, \"hyperblooms\")\n",
    "    cursor.copy_to(hb_meta_file, \"hyperbloom_metadata\")\n",
    "\n",
    "\n"
   ]
  }
 ],
 "metadata": {
  "kernelspec": {
   "display_name": "Python 3",
   "language": "python",
   "name": "python3"
  },
  "language_info": {
   "codemirror_mode": {
    "name": "ipython",
    "version": 3
   },
   "file_extension": ".py",
   "mimetype": "text/x-python",
   "name": "python",
   "nbconvert_exporter": "python",
   "pygments_lexer": "ipython3",
   "version": "3.10.12"
  }
 },
 "nbformat": 4,
 "nbformat_minor": 2
}
