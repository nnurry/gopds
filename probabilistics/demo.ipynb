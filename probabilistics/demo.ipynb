{
 "cells": [
  {
   "cell_type": "code",
   "execution_count": 10,
   "metadata": {},
   "outputs": [],
   "source": [
    "import requests\n",
    "import json"
   ]
  },
  {
   "cell_type": "markdown",
   "metadata": {},
   "source": [
    "CREATE FILTERS"
   ]
  },
  {
   "cell_type": "code",
   "execution_count": 11,
   "metadata": {},
   "outputs": [
    {
     "name": "stdout",
     "output_type": "stream",
     "text": [
      "<Response [200]> Created filter&{0xc000286020 0xc000298020}\n",
      "<Response [200]> Created filter&{0xc000286590 0xc000298680}\n"
     ]
    }
   ],
   "source": [
    "bodies = [\n",
    "    {\n",
    "        \"meta\": {\"key\": \"123\"},\n",
    "        \"filter\": {\n",
    "            \"type\": \"standard_bloom\", \n",
    "            \"max_cardinality\": 10000, \n",
    "            \"error_rate\": 0.0081\n",
    "        },\n",
    "    },\n",
    "    {\n",
    "        \"meta\": {\"key\": \"123\"},\n",
    "        \"filter\": {\n",
    "            \"type\": \"redis_bloom\", \n",
    "            \"max_cardinality\": 10000000, \n",
    "            \"error_rate\": 0.0001\n",
    "        },\n",
    "    },\n",
    "]\n",
    "for body in bodies:\n",
    "    response = requests.post(\n",
    "        \"http://127.0.0.1:5000/filter/create\",\n",
    "        data=json.dumps(body)\n",
    "    )\n",
    "\n",
    "    print(response, response.text)"
   ]
  },
  {
   "cell_type": "markdown",
   "metadata": {},
   "source": [
    "CREATE CARDINALS"
   ]
  },
  {
   "cell_type": "code",
   "execution_count": 12,
   "metadata": {},
   "outputs": [
    {
     "name": "stdout",
     "output_type": "stream",
     "text": [
      "<Response [200]> Created cardinal&{0xc000286690 0xc000298700}\n",
      "<Response [200]> Created cardinal&{0xc000124240 0xc00012e100}\n"
     ]
    }
   ],
   "source": [
    "bodies = [\n",
    "    {\n",
    "        \"meta\": {\"key\": \"123\"},\n",
    "        \"cardinal\": {\"type\": \"standard_hll\"},\n",
    "    },\n",
    "    {\n",
    "        \"meta\": {\"key\": \"123\"},\n",
    "        \"cardinal\": {\"type\": \"redis_hll\"},\n",
    "    },\n",
    "]\n",
    "for body in bodies:\n",
    "    response = requests.post(\n",
    "        \"http://127.0.0.1:5000/cardinal/create\",\n",
    "        data=json.dumps(body)\n",
    "    )\n",
    "\n",
    "    print(response, response.text)"
   ]
  },
  {
   "cell_type": "code",
   "execution_count": null,
   "metadata": {},
   "outputs": [],
   "source": []
  }
 ],
 "metadata": {
  "kernelspec": {
   "display_name": "Python 3",
   "language": "python",
   "name": "python3"
  },
  "language_info": {
   "codemirror_mode": {
    "name": "ipython",
    "version": 3
   },
   "file_extension": ".py",
   "mimetype": "text/x-python",
   "name": "python",
   "nbconvert_exporter": "python",
   "pygments_lexer": "ipython3",
   "version": "3.10.12"
  }
 },
 "nbformat": 4,
 "nbformat_minor": 2
}
