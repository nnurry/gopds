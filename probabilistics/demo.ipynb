{
 "cells": [
  {
   "cell_type": "code",
   "execution_count": 26,
   "metadata": {},
   "outputs": [],
   "source": [
    "import requests\n",
    "import json"
   ]
  },
  {
   "cell_type": "markdown",
   "metadata": {},
   "source": [
    "CREATE FILTERS"
   ]
  },
  {
   "cell_type": "code",
   "execution_count": 2,
   "metadata": {},
   "outputs": [
    {
     "name": "stdout",
     "output_type": "stream",
     "text": [
      "<Response [200]> Created filter&{0xc000284050 0xc00029a020}\n",
      "<Response [200]> Created filter&{0xc000284530 0xc00029a0e0}\n"
     ]
    }
   ],
   "source": [
    "bodies = [\n",
    "    {\n",
    "        \"meta\": {\"key\": \"123\"},\n",
    "        \"filter\": {\n",
    "            \"type\": \"standard_bloom\", \n",
    "            \"max_cardinality\": 10000, \n",
    "            \"error_rate\": 0.0081\n",
    "        },\n",
    "    },\n",
    "    {\n",
    "        \"meta\": {\"key\": \"123\"},\n",
    "        \"filter\": {\n",
    "            \"type\": \"redis_bloom\", \n",
    "            \"max_cardinality\": 10000000, \n",
    "            \"error_rate\": 0.0001\n",
    "        },\n",
    "    },\n",
    "]\n",
    "for body in bodies:\n",
    "    response = requests.post(\n",
    "        \"http://127.0.0.1:5000/filter/create\",\n",
    "        data=json.dumps(body)\n",
    "    )\n",
    "\n",
    "    print(response, response.text)"
   ]
  },
  {
   "cell_type": "markdown",
   "metadata": {},
   "source": [
    "CREATE CARDINALS"
   ]
  },
  {
   "cell_type": "code",
   "execution_count": 3,
   "metadata": {},
   "outputs": [
    {
     "name": "stdout",
     "output_type": "stream",
     "text": [
      "<Response [200]> Created cardinal&{0xc0002846c0 0xc00029a160}\n",
      "<Response [200]> Created cardinal&{0xc000024750 0xc00007ad80}\n"
     ]
    }
   ],
   "source": [
    "bodies = [\n",
    "    {\n",
    "        \"meta\": {\"key\": \"123\"},\n",
    "        \"cardinal\": {\"type\": \"standard_hll\"},\n",
    "    },\n",
    "    {\n",
    "        \"meta\": {\"key\": \"123\"},\n",
    "        \"cardinal\": {\"type\": \"redis_hll\"},\n",
    "    },\n",
    "]\n",
    "for body in bodies:\n",
    "    response = requests.post(\n",
    "        \"http://127.0.0.1:5000/cardinal/create\",\n",
    "        data=json.dumps(body)\n",
    "    )\n",
    "\n",
    "    print(response, response.text)"
   ]
  },
  {
   "cell_type": "markdown",
   "metadata": {},
   "source": [
    "ADD INTO FILTER"
   ]
  },
  {
   "cell_type": "code",
   "execution_count": 36,
   "metadata": {},
   "outputs": [
    {
     "name": "stdout",
     "output_type": "stream",
     "text": [
      "<Response [200]> Added 14 into 123\n",
      "<Response [200]> Added 17 into 123\n"
     ]
    }
   ],
   "source": [
    "bodies = [\n",
    "    {\n",
    "        \"meta\": {\"key\": \"123\", \"value\": \"14\"},\n",
    "        \"filter\": {\"type\": \"standard_bloom\", \"max_cardinality\": 10000, \"error_rate\": 0.0081},\n",
    "    },\n",
    "    {\n",
    "        \"meta\": {\"key\": \"123\", \"value\": \"17\"},\n",
    "        \"filter\": {\"type\": \"standard_bloom\", \"max_cardinality\": 10000, \"error_rate\": 0.0081},\n",
    "    },\n",
    "]\n",
    "for body in bodies:\n",
    "    response = requests.post(\n",
    "        \"http://127.0.0.1:5000/filter/add\",\n",
    "        data=json.dumps(body)\n",
    "    )\n",
    "\n",
    "    print(response, response.text)"
   ]
  },
  {
   "cell_type": "markdown",
   "metadata": {},
   "source": [
    "ADD INTO CARDINAL"
   ]
  },
  {
   "cell_type": "code",
   "execution_count": 35,
   "metadata": {},
   "outputs": [
    {
     "name": "stdout",
     "output_type": "stream",
     "text": [
      "<Response [200]> Added 14 into 123\n",
      "<Response [200]> Added 17 into 123\n",
      "<Response [200]> Added 63 into 123\n",
      "<Response [200]> Added 24 into 123\n",
      "<Response [200]> Added 76 into 123\n",
      "<Response [200]> Added 14 into 123\n",
      "<Response [200]> Added 93 into 123\n",
      "<Response [200]> Added 22 into 123\n",
      "<Response [200]> Added 2392 into 123\n"
     ]
    }
   ],
   "source": [
    "bodies = [\n",
    "    {\n",
    "        \"meta\": {\"key\": \"123\", \"value\": \"14\"},\n",
    "        \"cardinal\": {\"type\": \"standard_hll\"},\n",
    "    },\n",
    "    {\n",
    "        \"meta\": {\"key\": \"123\", \"value\": \"17\"},\n",
    "        \"cardinal\": {\"type\": \"standard_hll\"},\n",
    "    },\n",
    "    {\n",
    "        \"meta\": {\"key\": \"123\", \"value\": \"63\"},\n",
    "        \"cardinal\": {\"type\": \"standard_hll\"},\n",
    "    },\n",
    "    {\n",
    "        \"meta\": {\"key\": \"123\", \"value\": \"24\"},\n",
    "        \"cardinal\": {\"type\": \"standard_hll\"},\n",
    "    },\n",
    "    {\n",
    "        \"meta\": {\"key\": \"123\", \"value\": \"76\"},\n",
    "        \"cardinal\": {\"type\": \"redis_hll\"},\n",
    "    },\n",
    "    {\n",
    "        \"meta\": {\"key\": \"123\", \"value\": \"14\"},\n",
    "        \"cardinal\": {\"type\": \"redis_hll\"},\n",
    "    },\n",
    "    {\n",
    "        \"meta\": {\"key\": \"123\", \"value\": \"93\"},\n",
    "        \"cardinal\": {\"type\": \"redis_hll\"},\n",
    "    },\n",
    "    {\n",
    "        \"meta\": {\"key\": \"123\", \"value\": \"22\"},\n",
    "        \"cardinal\": {\"type\": \"redis_hll\"},\n",
    "    },\n",
    "    {\n",
    "        \"meta\": {\"key\": \"123\", \"value\": \"2392\"},\n",
    "        \"cardinal\": {\"type\": \"redis_hll\"},\n",
    "    },\n",
    "]\n",
    "for body in bodies:\n",
    "    response = requests.post(\n",
    "        \"http://127.0.0.1:5000/cardinal/add\",\n",
    "        data=json.dumps(body)\n",
    "    )\n",
    "\n",
    "    print(response, response.text)"
   ]
  },
  {
   "cell_type": "markdown",
   "metadata": {},
   "source": [
    "CARDINALITY CHECK"
   ]
  },
  {
   "cell_type": "code",
   "execution_count": 48,
   "metadata": {},
   "outputs": [
    {
     "name": "stdout",
     "output_type": "stream",
     "text": [
      "<Response [200]> Cardinality of 123 = 4\n",
      "<Response [200]> Cardinality of 123 = 5\n"
     ]
    }
   ],
   "source": [
    "bodies = [\n",
    "    {\n",
    "        \"meta\": {\"key\": \"123\"},\n",
    "        \"cardinal\": {\"type\": \"standard_hll\"},\n",
    "    },\n",
    "    {\n",
    "        \"meta\": {\"key\": \"123\"},\n",
    "        \"cardinal\": {\"type\": \"redis_hll\"},\n",
    "    },\n",
    "]\n",
    "for body in bodies:\n",
    "    response = requests.post(\n",
    "        \"http://127.0.0.1:5000/cardinal/card\",\n",
    "        data=json.dumps(body)\n",
    "    )\n",
    "\n",
    "    print(response, response.text)"
   ]
  },
  {
   "cell_type": "markdown",
   "metadata": {},
   "source": [
    "CHECK EXISTENCE"
   ]
  },
  {
   "cell_type": "code",
   "execution_count": 47,
   "metadata": {},
   "outputs": [
    {
     "name": "stdout",
     "output_type": "stream",
     "text": [
      "<Response [200]> 14 exists in 123: true\n",
      "<Response [200]> 17 exists in 123: true\n",
      "<Response [200]> 23 exists in 123: false\n"
     ]
    }
   ],
   "source": [
    "bodies = [\n",
    "    {\n",
    "        \"meta\": {\"key\": \"123\", \"value\": \"14\"},\n",
    "        \"filter\": {\"type\": \"standard_bloom\", \"max_cardinality\": 10000, \"error_rate\": 0.0081},\n",
    "    },\n",
    "    {\n",
    "        \"meta\": {\"key\": \"123\", \"value\": \"17\"},\n",
    "        \"filter\": {\"type\": \"standard_bloom\", \"max_cardinality\": 10000, \"error_rate\": 0.0081},\n",
    "    },\n",
    "    {\n",
    "        \"meta\": {\"key\": \"123\", \"value\": \"23\"},\n",
    "        \"filter\": {\"type\": \"standard_bloom\", \"max_cardinality\": 10000, \"error_rate\": 0.0081},\n",
    "    },\n",
    "]\n",
    "for body in bodies:\n",
    "    response = requests.post(\n",
    "        \"http://127.0.0.1:5000/filter/exists\",\n",
    "        data=json.dumps(body)\n",
    "    )\n",
    "\n",
    "    print(response, response.text)"
   ]
  },
  {
   "cell_type": "code",
   "execution_count": null,
   "metadata": {},
   "outputs": [],
   "source": []
  }
 ],
 "metadata": {
  "kernelspec": {
   "display_name": "Python 3",
   "language": "python",
   "name": "python3"
  },
  "language_info": {
   "codemirror_mode": {
    "name": "ipython",
    "version": 3
   },
   "file_extension": ".py",
   "mimetype": "text/x-python",
   "name": "python",
   "nbconvert_exporter": "python",
   "pygments_lexer": "ipython3",
   "version": "3.10.12"
  }
 },
 "nbformat": 4,
 "nbformat_minor": 2
}
